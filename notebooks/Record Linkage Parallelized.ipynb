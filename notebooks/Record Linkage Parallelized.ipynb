{
 "cells": [
  {
   "cell_type": "markdown",
   "metadata": {},
   "source": [
    "# Record Linkage Parallelized\n",
    "This notebook is an example of a parallelized implementation of recording linkage using fuzzy matching in Python.\n",
    "* This notebook uses [fuzzywuzzy](https://github.com/seatgeek/fuzzywuzzy) for fuzzy matching which is an efficient implementation of Levensteihn string matching from Seatgeek\n",
    "* [Dask](https://dask.org/) allows us to scale the computationally expensive task of fuzzy string matching through parallelism\n",
    "<br>\n",
    "<br>\n",
    "This notebook takes 2 DataFrames that have no primary key to match on and applies fuzzy matching logic to return a new DataFrame that contains all of the info from the first Dataframe along with info from the second DataFrame for matched rows."
   ]
  },
  {
   "cell_type": "markdown",
   "metadata": {},
   "source": [
    "### Install Python Libraries"
   ]
  },
  {
   "cell_type": "code",
   "execution_count": 1,
   "metadata": {},
   "outputs": [],
   "source": [
    "#!pip install fuzzywuzzy[speedup]"
   ]
  },
  {
   "cell_type": "code",
   "execution_count": 2,
   "metadata": {},
   "outputs": [],
   "source": [
    "import pandas as pd\n",
    "from fuzzywuzzy import fuzz, process, string_processing, utils\n",
    "import dask.multiprocessing\n",
    "import dask.threaded\n",
    "import dask.dataframe as dd\n",
    "import math\n",
    "import time\n",
    "import numpy as np"
   ]
  },
  {
   "cell_type": "markdown",
   "metadata": {},
   "source": [
    "### Import Data\n",
    "This example performs an approximate string match on company names from [NASDAQ, S&P500, NYSE exchanges](https://datahub.io/collections/stock-market-data) with companies names from the [SEC Edgar Company Database](https://www.sec.gov/edgar/searchedgar/accessing-edgar-data.htm)."
   ]
  },
  {
   "cell_type": "code",
   "execution_count": 3,
   "metadata": {},
   "outputs": [],
   "source": [
    "nasdaq = pd.read_csv('nasdaq.csv')\n",
    "sp500 = pd.read_csv('s_and_p_500.csv')\n",
    "nyse = pd.read_csv('nyse.csv')\n",
    "other = pd.read_csv('other.csv')\n",
    "sec = pd.read_csv('sec_edgar_company_info.csv')\n",
    "\n",
    "nasdaq['Stock Exchange'] = 'Nasdaq'\n",
    "sp500['Stock Exchange'] = 'S&P 500'\n",
    "nyse['Stock Exchange'] = 'NYSE'\n",
    "other['Stock Exchange'] = 'Other'\n",
    "\n",
    "stocks = nasdaq.append(sp500).append(nyse).append(other)\n",
    "stocks = stocks.drop_duplicates(subset = 'Symbol')"
   ]
  },
  {
   "cell_type": "code",
   "execution_count": 4,
   "metadata": {},
   "outputs": [
    {
     "data": {
      "text/html": [
       "<div>\n",
       "<style scoped>\n",
       "    .dataframe tbody tr th:only-of-type {\n",
       "        vertical-align: middle;\n",
       "    }\n",
       "\n",
       "    .dataframe tbody tr th {\n",
       "        vertical-align: top;\n",
       "    }\n",
       "\n",
       "    .dataframe thead th {\n",
       "        text-align: right;\n",
       "    }\n",
       "</style>\n",
       "<table border=\"1\" class=\"dataframe\">\n",
       "  <thead>\n",
       "    <tr style=\"text-align: right;\">\n",
       "      <th></th>\n",
       "      <th>Symbol</th>\n",
       "      <th>Company Name</th>\n",
       "      <th>Stock Exchange</th>\n",
       "    </tr>\n",
       "  </thead>\n",
       "  <tbody>\n",
       "    <tr>\n",
       "      <th>0</th>\n",
       "      <td>AAIT</td>\n",
       "      <td>iShares MSCI All Country Asia Information Tech...</td>\n",
       "      <td>Nasdaq</td>\n",
       "    </tr>\n",
       "    <tr>\n",
       "      <th>1</th>\n",
       "      <td>AAL</td>\n",
       "      <td>American Airlines Group, Inc.</td>\n",
       "      <td>Nasdaq</td>\n",
       "    </tr>\n",
       "  </tbody>\n",
       "</table>\n",
       "</div>"
      ],
      "text/plain": [
       "  Symbol                                       Company Name Stock Exchange\n",
       "0   AAIT  iShares MSCI All Country Asia Information Tech...         Nasdaq\n",
       "1    AAL                      American Airlines Group, Inc.         Nasdaq"
      ]
     },
     "execution_count": 4,
     "metadata": {},
     "output_type": "execute_result"
    }
   ],
   "source": [
    "stocks.head(2)"
   ]
  },
  {
   "cell_type": "code",
   "execution_count": 5,
   "metadata": {},
   "outputs": [
    {
     "data": {
      "text/html": [
       "<div>\n",
       "<style scoped>\n",
       "    .dataframe tbody tr th:only-of-type {\n",
       "        vertical-align: middle;\n",
       "    }\n",
       "\n",
       "    .dataframe tbody tr th {\n",
       "        vertical-align: top;\n",
       "    }\n",
       "\n",
       "    .dataframe thead th {\n",
       "        text-align: right;\n",
       "    }\n",
       "</style>\n",
       "<table border=\"1\" class=\"dataframe\">\n",
       "  <thead>\n",
       "    <tr style=\"text-align: right;\">\n",
       "      <th></th>\n",
       "      <th>Company Name</th>\n",
       "      <th>Company CIK Key</th>\n",
       "    </tr>\n",
       "  </thead>\n",
       "  <tbody>\n",
       "    <tr>\n",
       "      <th>0</th>\n",
       "      <td>!J INC</td>\n",
       "      <td>1438823</td>\n",
       "    </tr>\n",
       "    <tr>\n",
       "      <th>1</th>\n",
       "      <td>#1 A LIFESAFER HOLDINGS, INC.</td>\n",
       "      <td>1509607</td>\n",
       "    </tr>\n",
       "  </tbody>\n",
       "</table>\n",
       "</div>"
      ],
      "text/plain": [
       "                    Company Name  Company CIK Key\n",
       "0                         !J INC          1438823\n",
       "1  #1 A LIFESAFER HOLDINGS, INC.          1509607"
      ]
     },
     "execution_count": 5,
     "metadata": {},
     "output_type": "execute_result"
    }
   ],
   "source": [
    "sec.head(2)"
   ]
  },
  {
   "cell_type": "markdown",
   "metadata": {},
   "source": [
    "### Pre-Processing\n",
    "Pre-processing strings in both datasets by replacing non-alphanumeric characters with whitespace, making strings lowercase, and stripping whitespace. This is done in a parallelized manner using dask."
   ]
  },
  {
   "cell_type": "code",
   "execution_count": 6,
   "metadata": {},
   "outputs": [
    {
     "name": "stdout",
     "output_type": "stream",
     "text": [
      "CPU times: user 11.2 s, sys: 2.02 s, total: 13.2 s\n",
      "Wall time: 13.1 s\n"
     ]
    }
   ],
   "source": [
    "%%time\n",
    "\n",
    "def pre_process(text):\n",
    "    processed = string_processing.StringProcessor.replace_non_letters_non_numbers_with_whitespace(text)\n",
    "    processed = string_processing.StringProcessor.to_lower_case(processed)\n",
    "    processed = string_processing.StringProcessor.strip(processed)\n",
    "    return [processed, text]\n",
    "\n",
    "def pre_process_parallelized(df, col):\n",
    "    dmaster = dd.from_pandas(df, npartitions = dask.multiprocessing.multiprocessing.cpu_count())\n",
    "    processed = dmaster[col].apply(lambda x: pre_process(x), meta = ('x','f8'))\n",
    "    processed = processed.compute(scheduler = 'processes')\n",
    "    return processed\n",
    "\n",
    "def pre_processed_parallelized_df(df, col):\n",
    "    clean = []\n",
    "    orig = []\n",
    "    \n",
    "    processed = pre_process_parallelized(df, col)\n",
    "    for i in processed:\n",
    "        clean.append(i[0])\n",
    "        orig.append(i[1])\n",
    "        \n",
    "    df_processed = pd.DataFrame(list(zip(clean, orig)), \n",
    "                      columns = [col + ' Clean', 'Orig'])\n",
    "    \n",
    "    df_processed = df.merge(df_processed, how = 'left', left_on = col, right_on = 'Orig')\\\n",
    "                     .drop(['Orig'], axis = 1)\\\n",
    "                     .drop_duplicates()\n",
    "    return df_processed\n",
    "\n",
    "stocks = pre_processed_parallelized_df(stocks, 'Company Name')\n",
    "sec = pre_processed_parallelized_df(sec, 'Company Name')"
   ]
  },
  {
   "cell_type": "markdown",
   "metadata": {},
   "source": [
    "### Full Match\n",
    "Once the pre-processing is complete, we want to first perform a full match on the cleaned company names to reduce the complexity of the fuzzy matching on remaining names."
   ]
  },
  {
   "cell_type": "code",
   "execution_count": 7,
   "metadata": {},
   "outputs": [
    {
     "name": "stdout",
     "output_type": "stream",
     "text": [
      "1676 full matches out of 8190 (20.5%)\n"
     ]
    }
   ],
   "source": [
    "stocks_full_match = stocks.merge(sec, how = 'inner', on = 'Company Name Clean', suffixes = (' Set A', ' Set B'))\\\n",
    "\n",
    "print(len(stocks_full_match), 'full matches out of', len(stocks),\n",
    "      '({:.1%})'.format(len(stocks_full_match)/len(stocks)))"
   ]
  },
  {
   "cell_type": "code",
   "execution_count": 8,
   "metadata": {},
   "outputs": [
    {
     "name": "stdout",
     "output_type": "stream",
     "text": [
      "6636 stocks not matched out of 8190 (81.0%)\n",
      "661449 SEC companies not matched out of 8190 (99.8%)\n"
     ]
    }
   ],
   "source": [
    "# Separate unmatched stocks and SEC companies to use for fuzzy matching\n",
    "stocks_not_matched = stocks[~stocks['Company Name Clean'].isin(stocks_full_match['Company Name Clean'])]\n",
    "sec_not_matched = sec[~sec['Company Name Clean'].isin(stocks_full_match['Company Name Clean'])]\n",
    "\n",
    "print(len(stocks_not_matched), 'stocks not matched out of', len(stocks),\n",
    "      '({:.1%})'.format(len(stocks_not_matched)/len(stocks)))\n",
    "print(len(sec_not_matched), 'SEC companies not matched out of', len(stocks),\n",
    "      '({:.1%})'.format(len(sec_not_matched)/len(sec)))"
   ]
  },
  {
   "cell_type": "markdown",
   "metadata": {},
   "source": [
    "### Fuzzy Match\n",
    "Extract the best match for each stock against the 660k SEC company names and use a score cutoff of 90% match to join the 2 datasets on approximate company name"
   ]
  },
  {
   "cell_type": "code",
   "execution_count": 9,
   "metadata": {},
   "outputs": [],
   "source": [
    "# function to extract the best match using a score cut-off\n",
    "def fuzzy_match(set_a, set_b, scorer, score_cutoff):\n",
    "    return process.extractOne(set_a, set_b, scorer = scorer, score_cutoff = score_cutoff)\n",
    "\n",
    "# function to parallelize fuzzywuzzy's extractOne function\n",
    "# splits dataframes into dask dataframes equal to the number of cores of your CPU, parallelizes compute on the CPU cores\n",
    "def fuzzy_match_parallelized(set_a, col_a, set_b, col_b, scorer, score_cutoff):\n",
    "    dmaster = dd.from_pandas(set_a, npartitions = dask.multiprocessing.multiprocessing.cpu_count()) \n",
    "    match = dmaster[col_a].apply(lambda x: fuzzy_match(x, set_b[col_b], scorer, score_cutoff), meta = ('x','f8'))\n",
    "    match = match.compute(scheduler = 'processes')\n",
    "    return match\n",
    "\n",
    "# use the results of fuzzy matching to join both datasets together\n",
    "def fuzzy_merge(set_a, col_a, set_b, col_b, scorer, score_cutoff):\n",
    "    matches = fuzzy_match_parallelized(set_a, col_a, set_b, col_b, scorer, score_cutoff)\n",
    "\n",
    "    set_a_idx = []\n",
    "    set_b_idx = []\n",
    "    match_ratio = []\n",
    "\n",
    "    for idx, i in enumerate(matches):\n",
    "        if i is not None:\n",
    "            set_a_idx.append(idx)\n",
    "            set_b_idx.append(i[2])\n",
    "            match_ratio.append(i[1])\n",
    "        else:\n",
    "            set_a_idx.append(idx)\n",
    "            set_b_idx.append(np.nan)\n",
    "            match_ratio.append(np.nan)\n",
    "\n",
    "    match_df = pd.DataFrame(list(zip(set_a_idx, set_b_idx, match_ratio)), \n",
    "                          columns = ['set_a_idx', 'set_b_idx', 'Match Ratio'])\n",
    "\n",
    "    df = set_a.merge(match_df, how = 'left', left_index = True, right_on = 'set_a_idx')\\\n",
    "         .merge(set_b, how = 'left', left_on = 'set_b_idx', right_index = True, suffixes = (' Set A', ' Set B'))\n",
    "\n",
    "    df = df[[col_a + ' Set A', col_b + ' Set B', 'Match Ratio'] + \\\n",
    "            [i for i in list(df.columns) if i not in [col_a + ' Set A', col_b + ' Set B', 'Match Ratio']]]\\\n",
    "            .drop(['set_a_idx', 'set_b_idx'], axis = 1)\n",
    "    \n",
    "    return df"
   ]
  },
  {
   "cell_type": "code",
   "execution_count": 10,
   "metadata": {},
   "outputs": [
    {
     "name": "stdout",
     "output_type": "stream",
     "text": [
      "CPU times: user 6min 2s, sys: 12.6 s, total: 6min 15s\n",
      "Wall time: 15min\n"
     ]
    }
   ],
   "source": [
    "%%time\n",
    "\n",
    "# run the fuzzy match logic on the SEC and company data\n",
    "scorer = fuzz.ratio # fuzzy-match scorer - Levensteihn distance\n",
    "score_cutoff = 80\n",
    "set_a = stocks_not_matched # pandas df for first set of entities\n",
    "col_a = 'Company Name Clean' # column from set a to match on\n",
    "set_b = sec_not_matched  # pandas df for second set of entities\n",
    "col_b = 'Company Name Clean' # column from set b to match on\n",
    "\n",
    "df = fuzzy_merge(set_a, col_a, set_b, col_b, scorer, score_cutoff)"
   ]
  },
  {
   "cell_type": "code",
   "execution_count": 11,
   "metadata": {},
   "outputs": [],
   "source": [
    "df = df.append(stocks_full_match, sort = 'True')\n",
    "df = df.drop_duplicates(subset = 'Symbol')\n",
    "df = df.reset_index(drop = True)"
   ]
  },
  {
   "cell_type": "code",
   "execution_count": 12,
   "metadata": {},
   "outputs": [
    {
     "data": {
      "text/html": [
       "<div>\n",
       "<style scoped>\n",
       "    .dataframe tbody tr th:only-of-type {\n",
       "        vertical-align: middle;\n",
       "    }\n",
       "\n",
       "    .dataframe tbody tr th {\n",
       "        vertical-align: top;\n",
       "    }\n",
       "\n",
       "    .dataframe thead th {\n",
       "        text-align: right;\n",
       "    }\n",
       "</style>\n",
       "<table border=\"1\" class=\"dataframe\">\n",
       "  <thead>\n",
       "    <tr style=\"text-align: right;\">\n",
       "      <th></th>\n",
       "      <th>Company CIK Key</th>\n",
       "      <th>Company Name Clean</th>\n",
       "      <th>Company Name Clean Set A</th>\n",
       "      <th>Company Name Clean Set B</th>\n",
       "      <th>Company Name Set A</th>\n",
       "      <th>Company Name Set B</th>\n",
       "      <th>Match Ratio</th>\n",
       "      <th>Stock Exchange</th>\n",
       "      <th>Symbol</th>\n",
       "    </tr>\n",
       "  </thead>\n",
       "  <tbody>\n",
       "    <tr>\n",
       "      <th>0</th>\n",
       "      <td>NaN</td>\n",
       "      <td>NaN</td>\n",
       "      <td>ishares msci all country asia information tech...</td>\n",
       "      <td>NaN</td>\n",
       "      <td>iShares MSCI All Country Asia Information Tech...</td>\n",
       "      <td>NaN</td>\n",
       "      <td>NaN</td>\n",
       "      <td>Nasdaq</td>\n",
       "      <td>AAIT</td>\n",
       "    </tr>\n",
       "    <tr>\n",
       "      <th>1</th>\n",
       "      <td>6201.0</td>\n",
       "      <td>NaN</td>\n",
       "      <td>american airlines group  inc</td>\n",
       "      <td>american airlines group inc</td>\n",
       "      <td>American Airlines Group, Inc.</td>\n",
       "      <td>AMERICAN AIRLINES GROUP INC.</td>\n",
       "      <td>98.0</td>\n",
       "      <td>Nasdaq</td>\n",
       "      <td>AAL</td>\n",
       "    </tr>\n",
       "    <tr>\n",
       "      <th>2</th>\n",
       "      <td>NaN</td>\n",
       "      <td>NaN</td>\n",
       "      <td>atlantic american corporation</td>\n",
       "      <td>NaN</td>\n",
       "      <td>Atlantic American Corporation</td>\n",
       "      <td>NaN</td>\n",
       "      <td>NaN</td>\n",
       "      <td>Nasdaq</td>\n",
       "      <td>AAME</td>\n",
       "    </tr>\n",
       "    <tr>\n",
       "      <th>4</th>\n",
       "      <td>1135185.0</td>\n",
       "      <td>NaN</td>\n",
       "      <td>aaon  inc</td>\n",
       "      <td>atlas air worldwide holdings inc</td>\n",
       "      <td>AAON, Inc.</td>\n",
       "      <td>ATLAS AIR WORLDWIDE HOLDINGS INC</td>\n",
       "      <td>93.0</td>\n",
       "      <td>Nasdaq</td>\n",
       "      <td>AAON</td>\n",
       "    </tr>\n",
       "    <tr>\n",
       "      <th>7</th>\n",
       "      <td>NaN</td>\n",
       "      <td>NaN</td>\n",
       "      <td>atlas air worldwide holdings</td>\n",
       "      <td>NaN</td>\n",
       "      <td>Atlas Air Worldwide Holdings</td>\n",
       "      <td>NaN</td>\n",
       "      <td>NaN</td>\n",
       "      <td>Nasdaq</td>\n",
       "      <td>AAWW</td>\n",
       "    </tr>\n",
       "  </tbody>\n",
       "</table>\n",
       "</div>"
      ],
      "text/plain": [
       "   Company CIK Key Company Name Clean  \\\n",
       "0              NaN                NaN   \n",
       "1           6201.0                NaN   \n",
       "2              NaN                NaN   \n",
       "4        1135185.0                NaN   \n",
       "7              NaN                NaN   \n",
       "\n",
       "                            Company Name Clean Set A  \\\n",
       "0  ishares msci all country asia information tech...   \n",
       "1                       american airlines group  inc   \n",
       "2                      atlantic american corporation   \n",
       "4                                          aaon  inc   \n",
       "7                       atlas air worldwide holdings   \n",
       "\n",
       "           Company Name Clean Set B  \\\n",
       "0                               NaN   \n",
       "1       american airlines group inc   \n",
       "2                               NaN   \n",
       "4  atlas air worldwide holdings inc   \n",
       "7                               NaN   \n",
       "\n",
       "                                  Company Name Set A  \\\n",
       "0  iShares MSCI All Country Asia Information Tech...   \n",
       "1                      American Airlines Group, Inc.   \n",
       "2                      Atlantic American Corporation   \n",
       "4                                         AAON, Inc.   \n",
       "7                       Atlas Air Worldwide Holdings   \n",
       "\n",
       "                 Company Name Set B  Match Ratio Stock Exchange Symbol  \n",
       "0                               NaN          NaN         Nasdaq   AAIT  \n",
       "1      AMERICAN AIRLINES GROUP INC.         98.0         Nasdaq    AAL  \n",
       "2                               NaN          NaN         Nasdaq   AAME  \n",
       "4  ATLAS AIR WORLDWIDE HOLDINGS INC         93.0         Nasdaq   AAON  \n",
       "7                               NaN          NaN         Nasdaq   AAWW  "
      ]
     },
     "execution_count": 12,
     "metadata": {},
     "output_type": "execute_result"
    }
   ],
   "source": [
    "df.head(5)"
   ]
  },
  {
   "cell_type": "code",
   "execution_count": 28,
   "metadata": {},
   "outputs": [
    {
     "name": "stdout",
     "output_type": "stream",
     "text": [
      "2060 stocks matched out of 8190 (25.2%)\n"
     ]
    }
   ],
   "source": [
    "print(len(df.dropna(subset = ['Company CIK Key'])), 'stocks matched out of', len(stocks),\n",
    "      '({:.1%})'.format(len(df.dropna(subset = ['Company CIK Key']))/len(stocks)))"
   ]
  }
 ],
 "metadata": {
  "kernel_info": {
   "name": "python3"
  },
  "kernelspec": {
   "display_name": "Python 3",
   "language": "python",
   "name": "python3"
  },
  "language_info": {
   "codemirror_mode": {
    "name": "ipython",
    "version": 3
   },
   "file_extension": ".py",
   "mimetype": "text/x-python",
   "name": "python",
   "nbconvert_exporter": "python",
   "pygments_lexer": "ipython3",
   "version": "3.6.9"
  },
  "nteract": {
   "version": "nteract-front-end@1.0.0"
  }
 },
 "nbformat": 4,
 "nbformat_minor": 4
}